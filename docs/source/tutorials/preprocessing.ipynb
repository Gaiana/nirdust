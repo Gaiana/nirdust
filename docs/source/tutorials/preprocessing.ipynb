{
 "cells": [
  {
   "cell_type": "markdown",
   "metadata": {},
   "source": [
    "# Preprocessing utilities"
   ]
  },
  {
   "cell_type": "markdown",
   "metadata": {},
   "source": [
    "work in progress..."
   ]
  }
 ],
 "metadata": {
  "interpreter": {
   "hash": "dfefad9444caa34b651035342248c936eda24540a2756afa4fe280ef294fff37"
  },
  "kernelspec": {
   "display_name": "Python 3.8.10 64-bit ('nirdust': virtualenv)",
   "language": "python",
   "name": "python3"
  },
  "language_info": {
   "codemirror_mode": {
    "name": "ipython",
    "version": 3
   },
   "file_extension": ".py",
   "mimetype": "text/x-python",
   "name": "python",
   "nbconvert_exporter": "python",
   "pygments_lexer": "ipython3",
   "version": "3.8.10"
  },
  "orig_nbformat": 4
 },
 "nbformat": 4,
 "nbformat_minor": 2
}
