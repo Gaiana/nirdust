{
 "cells": [
  {
   "cell_type": "code",
   "execution_count": 50,
   "metadata": {},
   "outputs": [],
   "source": [
    "import numpy as np\n",
    "import matplotlib.pyplot as plt\n",
    "import math as mat\n",
    "import matplotlib\n",
    "from matplotlib import gridspec\n",
    "from scipy.optimize import curve_fit\n",
    "import pylab as pylt\n",
    "from scipy.constants import c,h #ver que onda las unidades de h"
   ]
  },
  {
   "cell_type": "markdown",
   "metadata": {},
   "source": [
    "#### Parametros graficos"
   ]
  },
  {
   "cell_type": "code",
   "execution_count": 51,
   "metadata": {},
   "outputs": [],
   "source": [
    "matplotlib.rcParams['font.sans-serif'] = \"Comic Sans MS\"\n",
    "matplotlib.rcParams['font.family'] = \"Serif\"\n",
    "\n",
    "# Get current size\n",
    "fig_size = plt.rcParams[\"figure.figsize\"]\n",
    "  \n",
    "#Set the font size    \n",
    "matplotlib.rcParams['font.size'] = '18'    \n",
    "    \n",
    "# Set figure width to 12 and height to 9\n",
    "fig_size[0] = 14\n",
    "fig_size[1] = 5\n",
    "plt.rcParams[\"figure.figsize\"] = fig_size"
   ]
  },
  {
   "cell_type": "markdown",
   "metadata": {},
   "source": [
    "#### Funciones"
   ]
  },
  {
   "cell_type": "code",
   "execution_count": 52,
   "metadata": {},
   "outputs": [],
   "source": [
    "def cortator(L,mini,maxi):\n",
    "    '''Funcion que corta los elementos de una lista (los elementos deben ser np arrays)'''\n",
    "    return L[mini:maxi]\n",
    "    "
   ]
  },
  {
   "cell_type": "code",
   "execution_count": 53,
   "metadata": {},
   "outputs": [],
   "source": [
    "def frecuentiator(lam):\n",
    "    '''Se pasan los espectros al espacio de frecuencias'''\n",
    "    cm=c*1e6         #(en micrómetros por segundo)\n",
    "    return cm/lam"
   ]
  },
  {
   "cell_type": "code",
   "execution_count": 54,
   "metadata": {},
   "outputs": [],
   "source": [
    "def blackbody_num(n, T):\n",
    "    \"\"\" Blackbody as a function of wavelength (um) and temperature (K).\n",
    "\n",
    "    returns units of erg/s/cm^2/cm/Steradian  \n",
    "    \"\"\"\n",
    "    from scipy.constants import h,k,c\n",
    "    bb = 2*h*n**3 / c**2 *(1/ (np.exp(h*n / (k*T)) - 1))\n",
    "    return bb/np.mean(bb)"
   ]
  },
  {
   "cell_type": "markdown",
   "metadata": {},
   "source": [
    "#### Lectura y transformacion de los espectros"
   ]
  },
  {
   "cell_type": "code",
   "execution_count": 55,
   "metadata": {},
   "outputs": [],
   "source": [
    "### Lista de archivos que contienen los espectros\n",
    "Files_continuo = ['cont_neg_18.txt','cont_neg_17.txt','cont_neg_16.txt','cont_neg_15.txt','cont_neg_14.txt', 'cont_neg_13.txt','cont_neg_12.txt', 'cont_neg_11.txt','cont_neg_10.txt', 'cont_neg_09.txt', 'cont_neg_08.txt', 'cont_neg_07.txt', 'cont_neg_06.txt', 'cont_neg_05.txt', 'cont_neg_04.txt', 'new_cont_03_neg.txt', 'cont_neg_02.txt', 'cont_neg_01.txt','cont01.txt','cont02.txt','cont03.txt','cont04.txt','cont05.txt','cont06.txt','cont07.txt','cont08.txt','cont09.txt','cont10.txt','cont11.txt','cont12.txt','cont13.txt','cont14.txt','cont15.txt','cont16.txt','cont17.txt','cont18.txt', '17mas18.txt','cexterno10px.txt']\n",
    "#Files_continuo[4:32] Este es el rango donde los espectros son ajustables\n"
   ]
  },
  {
   "cell_type": "code",
   "execution_count": 56,
   "metadata": {},
   "outputs": [],
   "source": [
    "# Se leen los archivos que contienen los espectros\n",
    "\n",
    "Lwt = []\n",
    "Lit = []\n",
    "\n",
    "for i in range(len(Files_continuo)):\n",
    "    w1,i1= np.loadtxt(Files_continuo[i], unpack=True)     \n",
    "    Lwt.append(w1)\n",
    "    Lit.append(i1) \n",
    "   "
   ]
  },
  {
   "cell_type": "code",
   "execution_count": 57,
   "metadata": {},
   "outputs": [],
   "source": [
    "#Se cortan los espectros y se los pasa a frecuencia\n",
    "\n",
    "Lw = []\n",
    "Ni = []\n",
    "Frec_exces = []\n",
    "low_lim  = 310\n",
    "upper_lim = 1130\n",
    "\n",
    "for i in range(len(Lit)):\n",
    "    lw = cortator(Lwt[i],low_lim, upper_lim)*0.0001  #pasa la longitud de onda a micrometros\n",
    "    Lw.append(lw)\n",
    "    \n",
    "    frec = frecuentiator(lw)\n",
    "    Frec_exces.append(frec)\n",
    "    \n",
    "    lim = cortator(Lit[i],low_lim, upper_lim)\n",
    "    li = lim/np.mean(lim)\n",
    "    Ni.append(li)"
   ]
  },
  {
   "cell_type": "markdown",
   "metadata": {},
   "source": [
    "#### Construccion de los excesos rojos"
   ]
  },
  {
   "cell_type": "code",
   "execution_count": 58,
   "metadata": {},
   "outputs": [],
   "source": [
    "# Se construyen los excesos restando el espectro off-nuclear (debe estar almacenado en el ultimo elemento de la lista)\n",
    "\n",
    "Exc = []\n",
    "for i in range(len(Ni)):\n",
    "    exc = Ni[i]-Ni[-1] +1 \n",
    "    Exc.append(exc)\n",
    "    "
   ]
  },
  {
   "cell_type": "markdown",
   "metadata": {},
   "source": [
    "#### Ajuste de los excesos"
   ]
  },
  {
   "cell_type": "code",
   "execution_count": 59,
   "metadata": {},
   "outputs": [],
   "source": [
    "#Se ajustan las funciones Black_Body a todos los excesos\n",
    "\n",
    "t = 1\n",
    "Frec_evaluate = Frec_exces[t]\n",
    "Exces_evaluate = Exc[t]\n",
    "\n",
    "Temperaturas = np.array([])\n",
    "T_err = np.array([])\n",
    "\n",
    "for i in range(len(Lit)):\n",
    "    Frec_evaluate = Frec_exces[i]\n",
    "    Exces_evaluate = Exc[i]\n",
    "    popt, pcov = curve_fit(blackbody_num, Frec_evaluate, Exces_evaluate, p0=(1200))\n",
    "    Temperaturas = np.append(Temperaturas, popt)\n",
    "    T_err = np.append(T_err, pcov)"
   ]
  },
  {
   "cell_type": "code",
   "execution_count": 60,
   "metadata": {},
   "outputs": [],
   "source": [
    "radio = np.arange(-14,14)*8.2 #ojo, aca habria que hacer el radio en toda su extension y cortarlo con[4:32]"
   ]
  },
  {
   "cell_type": "code",
   "execution_count": 61,
   "metadata": {},
   "outputs": [],
   "source": [
    "### Errores estimados artesanalmente (hay que definir criterios y automatizar)\n",
    "\n",
    "T_err_inf = Temperaturas[4:32] - np.array([1400, 1600, 1500, 1350, 1150, 1250, 1150, 1200, 1250, 1450,1400,1350, 1450, 1250, 1250,1300, 1250, 1350, 1400, 1300,1300,1250,1250,1300, 1400, 1400, 1300, 1300])\n",
    "Terr_sup = np.array([2000,2200,1900, 1650, 1450,1400, 1450, 1400, 1500, 1750,1800, 1900, 1700,1500, 1400,1500, 1400,1550, 1600, 1500, 1500,1350,1500,1650, 1650, 1600, 1500, 1500])- Temperaturas[4:32]\n",
    "T_err = np.array([T_err_inf,Terr_sup])\n"
   ]
  },
  {
   "cell_type": "code",
   "execution_count": 62,
   "metadata": {},
   "outputs": [
    {
     "data": {
      "image/png": "[encoded data removed]",
      "text/plain": [
       "<Figure size 1008x360 with 1 Axes>"
      ]
     },
     "metadata": {
      "needs_background": "light"
     },
     "output_type": "display_data"
    }
   ],
   "source": [
    "### Plot de la distribucion radial de temperaturas\n",
    "fig = plt.figure()\n",
    "\n",
    "plt.errorbar(radio, Temperaturas[4:32], fmt='s', label=\"data\",markersize=5, color=\"firebrick\",\n",
    "            xerr=4, yerr=T_err, ecolor='black', capsize=2.5, linewidth=0.6)\n",
    "plt.xlabel('\\n Radius [pc]')\n",
    "plt.ylabel ('Temperature [K] \\n')\n",
    "\n",
    "plt.tight_layout()\n",
    "\n",
    "fig.savefig(\"dust-radial.pdf\")\n",
    "fig.savefig(\"dust-radial.png\")"
   ]
  },
  {
   "cell_type": "code",
   "execution_count": null,
   "metadata": {},
   "outputs": [],
   "source": []
  }
 ],
 "metadata": {
  "kernelspec": {
   "display_name": "Python 3",
   "language": "python",
   "name": "python3"
  },
  "language_info": {
   "codemirror_mode": {
    "name": "ipython",
    "version": 3
   },
   "file_extension": ".py",
   "mimetype": "text/x-python",
   "name": "python",
   "nbconvert_exporter": "python",
   "pygments_lexer": "ipython3",
   "version": "3.7.7"
  }
 },
 "nbformat": 4,
 "nbformat_minor": 2
}
